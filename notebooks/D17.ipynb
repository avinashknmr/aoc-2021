{
 "cells": [
  {
   "cell_type": "markdown",
   "metadata": {},
   "source": [
    "[Day 17: Trick Shot](https://adventofcode.com/2021/day/17)"
   ]
  },
  {
   "cell_type": "code",
   "execution_count": 1,
   "metadata": {},
   "outputs": [],
   "source": [
    "import numpy as np\n",
    "from itertools import product"
   ]
  },
  {
   "cell_type": "code",
   "execution_count": 2,
   "metadata": {},
   "outputs": [],
   "source": [
    "target_area = np.array([[248,285], [-56,-85]])"
   ]
  },
  {
   "cell_type": "code",
   "execution_count": 3,
   "metadata": {},
   "outputs": [],
   "source": [
    "def probe_landing(velocity, target_area):\n",
    "    probe_pos = np.array([0,0])\n",
    "    max_height = 0\n",
    "    hit = False\n",
    "    while True:\n",
    "        probe_pos += velocity\n",
    "        velocity = np.array([velocity[0]-1 if velocity[0]>0 else velocity[0]+1 if velocity[0]<0 else 0, velocity[1]-1])\n",
    "        if probe_pos[1]>max_height:\n",
    "            max_height = probe_pos[1]\n",
    "        if (target_area[0][0]<=probe_pos[0]<=target_area[0][1]) and (target_area[1][1]<=probe_pos[1]<=target_area[1][0]):\n",
    "            hit = True\n",
    "            break\n",
    "        if probe_pos[0]>target_area[0][1] or probe_pos[1]<target_area[1][1]:\n",
    "            hit = False\n",
    "            break\n",
    "    return max_height if hit else 0, hit"
   ]
  },
  {
   "cell_type": "code",
   "execution_count": 4,
   "metadata": {},
   "outputs": [
    {
     "data": {
      "text/plain": [
       "(0, True)"
      ]
     },
     "execution_count": 4,
     "metadata": {},
     "output_type": "execute_result"
    }
   ],
   "source": [
    "probe_landing(np.array([24,-7]), np.array([[20,30], [-5,-10]]))"
   ]
  },
  {
   "cell_type": "code",
   "execution_count": 5,
   "metadata": {},
   "outputs": [
    {
     "data": {
      "text/plain": [
       "3570"
      ]
     },
     "execution_count": 5,
     "metadata": {},
     "output_type": "execute_result"
    }
   ],
   "source": [
    "max(probe_landing(np.array([x,y]), target_area)[0] for x, y in product(range(0,300), range(-10,100)))"
   ]
  },
  {
   "cell_type": "code",
   "execution_count": 6,
   "metadata": {},
   "outputs": [
    {
     "data": {
      "text/plain": [
       "1919"
      ]
     },
     "execution_count": 6,
     "metadata": {},
     "output_type": "execute_result"
    }
   ],
   "source": [
    "sum(probe_landing(np.array([x,y]), target_area)[1] for x, y in product(range(0,300), range(-100,300)))"
   ]
  },
  {
   "cell_type": "code",
   "execution_count": null,
   "metadata": {},
   "outputs": [],
   "source": []
  }
 ],
 "metadata": {
  "kernelspec": {
   "display_name": "Python 3.8.3 ('04._ML_Utils--A1wxRDZ')",
   "language": "python",
   "name": "python3"
  },
  "language_info": {
   "codemirror_mode": {
    "name": "ipython",
    "version": 3
   },
   "file_extension": ".py",
   "mimetype": "text/x-python",
   "name": "python",
   "nbconvert_exporter": "python",
   "pygments_lexer": "ipython3",
   "version": "3.8.3"
  },
  "orig_nbformat": 4,
  "vscode": {
   "interpreter": {
    "hash": "57693568fa95845605be3da01a234f4a467a6c93ef13b9c34187abb07900ecfa"
   }
  }
 },
 "nbformat": 4,
 "nbformat_minor": 2
}
