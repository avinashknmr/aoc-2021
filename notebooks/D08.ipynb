{
 "cells": [
  {
   "cell_type": "markdown",
   "metadata": {},
   "source": [
    "[Day 8: Seven Segment Search](https://adventofcode.com/2021/day/8)"
   ]
  },
  {
   "cell_type": "code",
   "execution_count": 1,
   "metadata": {},
   "outputs": [],
   "source": [
    "with open('../input/D08.txt', 'r') as f:\n",
    "    output = [tuple(s.strip().split(' | ')) for s in f.readlines()]"
   ]
  },
  {
   "cell_type": "code",
   "execution_count": 2,
   "metadata": {},
   "outputs": [
    {
     "data": {
      "text/plain": [
       "301"
      ]
     },
     "execution_count": 2,
     "metadata": {},
     "output_type": "execute_result"
    }
   ],
   "source": [
    "sum(len([x for x in o[1].split(' ') if len(x) in [2,3,4,7]]) for o in output)"
   ]
  },
  {
   "cell_type": "code",
   "execution_count": 3,
   "metadata": {},
   "outputs": [],
   "source": [
    "def get_mapping(s):\n",
    "    i = s[0].split(' ')\n",
    "    o = s[1].split(' ')\n",
    "    mapping = {}\n",
    "    rem = []\n",
    "    for x in i:\n",
    "        if len(x)==2:\n",
    "            mapping[1] = x\n",
    "            rem.append(x)\n",
    "        elif len(x)==4:\n",
    "            mapping[4] = x\n",
    "            rem.append(x)\n",
    "        elif len(x)==3:\n",
    "            mapping[7] = x\n",
    "            rem.append(x)\n",
    "        elif len(x)==7:\n",
    "            mapping[8] = x\n",
    "            rem.append(x)\n",
    "    i = [x for x in i if x not in rem]\n",
    "    rem = []\n",
    "    for x in i:\n",
    "        if (set(mapping[7]).intersection(set(x))==set(mapping[7])) and len(x)==5:\n",
    "            mapping[3] = x\n",
    "            rem.append(x)\n",
    "        elif (set(mapping[4]).intersection(set(x))==set(mapping[4])) and len(x)==6:\n",
    "            mapping[9] = x\n",
    "            rem.append(x)\n",
    "    i = [x for x in i if x not in rem]\n",
    "    rem = []\n",
    "    for x in i:\n",
    "        if (set(mapping[9]).intersection(set(x))==set(x)) and len(x)==5:\n",
    "            mapping[5] = x\n",
    "            rem.append(x)\n",
    "    i = [x for x in i if x not in rem]\n",
    "    rem = []\n",
    "    for x in i:\n",
    "        if (set(mapping[5]).intersection(set(x))==set(mapping[5])) and len(x)==6:\n",
    "            mapping[6] = x\n",
    "            rem.append(x)\n",
    "    i = [x for x in i if x not in rem]\n",
    "    rem = []\n",
    "    for x in i:\n",
    "        if len(x)==5:\n",
    "            mapping[2] = x\n",
    "            rem.append(x)\n",
    "        elif len(x)==6:\n",
    "            mapping[0] = x\n",
    "            rem.append(x)\n",
    "    i = [x for x in i if x not in rem]\n",
    "    fmap = {v:k for k,v in mapping.items()}\n",
    "    a = []\n",
    "    for x in o:\n",
    "        for y,z in fmap.items():\n",
    "            if set(x)==set(y):\n",
    "                a.append(z)\n",
    "    return int(''.join([str(x) for x in a]))"
   ]
  },
  {
   "cell_type": "code",
   "execution_count": 4,
   "metadata": {},
   "outputs": [
    {
     "data": {
      "text/plain": [
       "908067"
      ]
     },
     "execution_count": 4,
     "metadata": {},
     "output_type": "execute_result"
    }
   ],
   "source": [
    "sum(map(get_mapping, output))"
   ]
  },
  {
   "cell_type": "code",
   "execution_count": null,
   "metadata": {},
   "outputs": [],
   "source": []
  }
 ],
 "metadata": {
  "kernelspec": {
   "display_name": "Python 3.8.3 ('04._ML_Utils--A1wxRDZ')",
   "language": "python",
   "name": "python3"
  },
  "language_info": {
   "codemirror_mode": {
    "name": "ipython",
    "version": 3
   },
   "file_extension": ".py",
   "mimetype": "text/x-python",
   "name": "python",
   "nbconvert_exporter": "python",
   "pygments_lexer": "ipython3",
   "version": "3.8.3"
  },
  "orig_nbformat": 4,
  "vscode": {
   "interpreter": {
    "hash": "57693568fa95845605be3da01a234f4a467a6c93ef13b9c34187abb07900ecfa"
   }
  }
 },
 "nbformat": 4,
 "nbformat_minor": 2
}
