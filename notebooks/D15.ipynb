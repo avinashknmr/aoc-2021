{
 "cells": [
  {
   "cell_type": "markdown",
   "metadata": {},
   "source": [
    "[Day 15: Chiton](https://adventofcode.com/2021/day/15)"
   ]
  },
  {
   "cell_type": "code",
   "execution_count": 1,
   "metadata": {},
   "outputs": [],
   "source": [
    "import networkx as nx\n",
    "import numpy as np"
   ]
  },
  {
   "cell_type": "code",
   "execution_count": 2,
   "metadata": {},
   "outputs": [],
   "source": [
    "data = open('../input/D15.txt', 'r', encoding='utf-8').read()\n",
    "df = np.array([[int(x) for x in line] for line in data.splitlines()])"
   ]
  },
  {
   "cell_type": "code",
   "execution_count": 5,
   "metadata": {},
   "outputs": [],
   "source": [
    "def get_shortest_path(df):\n",
    "    h, w = df.shape\n",
    "    G = nx.grid_2d_graph(w, h, create_using=nx.DiGraph())\n",
    "    nx.set_edge_attributes(G, {e: df[e[1][0]][e[1][1]] for e in G.edges()}, \"cost\")\n",
    "    return nx.shortest_path_length(G, source=(0, 0), target=(w - 1, h - 1), weight=\"cost\")"
   ]
  },
  {
   "cell_type": "code",
   "execution_count": 6,
   "metadata": {},
   "outputs": [
    {
     "data": {
      "text/plain": [
       "698"
      ]
     },
     "execution_count": 6,
     "metadata": {},
     "output_type": "execute_result"
    }
   ],
   "source": [
    "get_shortest_path(df)"
   ]
  },
  {
   "cell_type": "code",
   "execution_count": 7,
   "metadata": {},
   "outputs": [
    {
     "data": {
      "text/plain": [
       "3022"
      ]
     },
     "execution_count": 7,
     "metadata": {},
     "output_type": "execute_result"
    }
   ],
   "source": [
    "row = np.hstack([(df + i - 1) % 9 + 1 for i in range(5)])\n",
    "df = np.vstack([(row + i - 1) % 9 + 1 for i in range(5)])\n",
    "get_shortest_path(df)"
   ]
  }
 ],
 "metadata": {
  "kernelspec": {
   "display_name": "Python 3.9.13 ('AOC-f0fObxNH')",
   "language": "python",
   "name": "python3"
  },
  "language_info": {
   "codemirror_mode": {
    "name": "ipython",
    "version": 3
   },
   "file_extension": ".py",
   "mimetype": "text/x-python",
   "name": "python",
   "nbconvert_exporter": "python",
   "pygments_lexer": "ipython3",
   "version": "3.9.13"
  },
  "orig_nbformat": 4,
  "vscode": {
   "interpreter": {
    "hash": "4d2e615df860dbb8dab799da6c49ca2875c6babc41706b5923d6502e2954ccfd"
   }
  }
 },
 "nbformat": 4,
 "nbformat_minor": 2
}
