{
 "cells": [
  {
   "cell_type": "markdown",
   "metadata": {},
   "source": [
    "[Day 6: Lanternfish](https://adventofcode.com/2021/day/6)"
   ]
  },
  {
   "cell_type": "code",
   "execution_count": 1,
   "metadata": {},
   "outputs": [],
   "source": [
    "from collections import Counter"
   ]
  },
  {
   "cell_type": "code",
   "execution_count": 2,
   "metadata": {},
   "outputs": [],
   "source": [
    "with open('../input/D06.txt', 'r') as f:\n",
    "    lanternfish = [int(n) for n in f.readline().split(',')]"
   ]
  },
  {
   "cell_type": "code",
   "execution_count": 11,
   "metadata": {},
   "outputs": [],
   "source": [
    "# simple code with limits\n",
    "def count_lanternfish(lanternfish, days=80):\n",
    "    for d in range(days):\n",
    "        lanternfish = [v-1 if v>0 else 6 for v in lanternfish]+[8 for i in range(lanternfish.count(0))]\n",
    "    return len(lanternfish)\n",
    "\n",
    "# using Counter for big number\n",
    "def count_lanternfish_infinity(lanternfish, days=80):\n",
    "    fishes = Counter(lanternfish)\n",
    "    for d in range(days):\n",
    "        previous_new_fishes = Counter(dict((k-1, v) for k,v in fishes.items() if k>6)) # previous new fishes\n",
    "        fishes = Counter(dict((k-1 if k>0 else 6, v) for k,v in fishes.items() if k<=6)) # old fishes\n",
    "        if fishes[6]: fishes[8] = fishes[6] # new fishes\n",
    "        fishes += previous_new_fishes\n",
    "    return sum(fishes.values())"
   ]
  },
  {
   "cell_type": "code",
   "execution_count": 12,
   "metadata": {},
   "outputs": [
    {
     "data": {
      "text/plain": [
       "387413"
      ]
     },
     "execution_count": 12,
     "metadata": {},
     "output_type": "execute_result"
    }
   ],
   "source": [
    "# lanternfish = [3,4,3,1,2]\n",
    "count_lanternfish(lanternfish.copy(), 80)"
   ]
  },
  {
   "cell_type": "code",
   "execution_count": 13,
   "metadata": {},
   "outputs": [
    {
     "data": {
      "text/plain": [
       "1738377086345"
      ]
     },
     "execution_count": 13,
     "metadata": {},
     "output_type": "execute_result"
    }
   ],
   "source": [
    "# lanternfish = [3,4,3,1,2]\n",
    "count_lanternfish_infinity(lanternfish.copy(), 256)"
   ]
  },
  {
   "cell_type": "code",
   "execution_count": null,
   "metadata": {},
   "outputs": [],
   "source": []
  }
 ],
 "metadata": {
  "kernelspec": {
   "display_name": "Python 3.8.3 ('04._ML_Utils--A1wxRDZ')",
   "language": "python",
   "name": "python3"
  },
  "language_info": {
   "codemirror_mode": {
    "name": "ipython",
    "version": 3
   },
   "file_extension": ".py",
   "mimetype": "text/x-python",
   "name": "python",
   "nbconvert_exporter": "python",
   "pygments_lexer": "ipython3",
   "version": "3.8.3"
  },
  "orig_nbformat": 4,
  "vscode": {
   "interpreter": {
    "hash": "57693568fa95845605be3da01a234f4a467a6c93ef13b9c34187abb07900ecfa"
   }
  }
 },
 "nbformat": 4,
 "nbformat_minor": 2
}
