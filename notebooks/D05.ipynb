{
 "cells": [
  {
   "cell_type": "markdown",
   "metadata": {},
   "source": [
    "[Day 5: Hydrothermal Venture](https://adventofcode.com/2021/day/5)"
   ]
  },
  {
   "cell_type": "code",
   "execution_count": 1,
   "metadata": {},
   "outputs": [],
   "source": [
    "import numpy as np"
   ]
  },
  {
   "cell_type": "code",
   "execution_count": 2,
   "metadata": {},
   "outputs": [],
   "source": [
    "with open('../input/D05.txt', 'r') as f:\n",
    "    vents = [[tuple(int(n) for n in x.split(',')) for x in p.strip().split(' -> ')] for p in f.readlines()]"
   ]
  },
  {
   "cell_type": "code",
   "execution_count": 3,
   "metadata": {},
   "outputs": [],
   "source": [
    "def currents_map(vents, map_size=1000, diagonal=False):\n",
    "    ocean = np.zeros([map_size, map_size])\n",
    "    for coord in vents:\n",
    "        fpoint, tpoint = coord\n",
    "        if fpoint[0]==tpoint[0]:\n",
    "            p,q = sorted((fpoint[1], tpoint[1]))\n",
    "            ocean[fpoint[0], range(p, q+1)]+=1.0\n",
    "        elif fpoint[1]==tpoint[1]:\n",
    "            p,q = sorted((fpoint[0], tpoint[0]))\n",
    "            ocean[range(p, q+1), fpoint[1]]+=1.0\n",
    "        elif (fpoint[0]-tpoint[0])==(fpoint[1]-tpoint[1]) and diagonal:\n",
    "            p,q = sorted((fpoint[0], tpoint[0]))\n",
    "            r,s = sorted((fpoint[1], tpoint[1]))\n",
    "            ocean[range(p, q+1), range(r, s+1)]+=1.0\n",
    "        elif (fpoint[0]-tpoint[0])==-(fpoint[1]-tpoint[1]) and diagonal:\n",
    "            p,q = sorted((fpoint[0], tpoint[0]))\n",
    "            r,s = sorted((fpoint[1], tpoint[1]))\n",
    "            ocean[range(p, q+1), range(s, r-1, -1)]+=1.0\n",
    "    return ocean"
   ]
  },
  {
   "cell_type": "code",
   "execution_count": 4,
   "metadata": {},
   "outputs": [
    {
     "data": {
      "text/plain": [
       "8060"
      ]
     },
     "execution_count": 4,
     "metadata": {},
     "output_type": "execute_result"
    }
   ],
   "source": [
    "currents = currents_map(vents.copy(), map_size=1000, diagonal=False)\n",
    "len(currents[currents>=2.0])"
   ]
  },
  {
   "cell_type": "code",
   "execution_count": 5,
   "metadata": {},
   "outputs": [
    {
     "data": {
      "text/plain": [
       "21577"
      ]
     },
     "execution_count": 5,
     "metadata": {},
     "output_type": "execute_result"
    }
   ],
   "source": [
    "currents = currents_map(vents.copy(), map_size=1000, diagonal=True)\n",
    "len(currents[currents>=2.0])"
   ]
  },
  {
   "cell_type": "markdown",
   "metadata": {},
   "source": [
    "### Test Case"
   ]
  },
  {
   "cell_type": "code",
   "execution_count": 6,
   "metadata": {},
   "outputs": [],
   "source": [
    "test_points = [[(0,9), (5,9)],\n",
    "[(8,0), (0,8)],\n",
    "[(9,4), (3,4)],\n",
    "[(2,2), (2,1)],\n",
    "[(7,0), (7,4)],\n",
    "[(6,4), (2,0)],\n",
    "[(0,9), (2,9)],\n",
    "[(3,4), (1,4)],\n",
    "[(0,0), (8,8)],\n",
    "[(5,5), (8,2)]]"
   ]
  },
  {
   "cell_type": "code",
   "execution_count": 7,
   "metadata": {},
   "outputs": [
    {
     "data": {
      "text/plain": [
       "array([[1., 0., 1., 0., 0., 0., 0., 1., 1., 0.],\n",
       "       [0., 1., 1., 1., 0., 0., 0., 2., 0., 0.],\n",
       "       [0., 0., 2., 0., 1., 0., 1., 1., 1., 0.],\n",
       "       [0., 0., 0., 1., 0., 2., 0., 2., 0., 0.],\n",
       "       [0., 1., 1., 2., 3., 1., 3., 2., 1., 1.],\n",
       "       [0., 0., 0., 1., 0., 2., 0., 0., 0., 0.],\n",
       "       [0., 0., 1., 0., 0., 0., 1., 0., 0., 0.],\n",
       "       [0., 1., 0., 0., 0., 0., 0., 1., 0., 0.],\n",
       "       [1., 0., 0., 0., 0., 0., 0., 0., 1., 0.],\n",
       "       [2., 2., 2., 1., 1., 1., 0., 0., 0., 0.]])"
      ]
     },
     "execution_count": 7,
     "metadata": {},
     "output_type": "execute_result"
    }
   ],
   "source": [
    "currents_map(test_points.copy(), map_size=10, diagonal=True).T"
   ]
  },
  {
   "cell_type": "code",
   "execution_count": 8,
   "metadata": {},
   "outputs": [
    {
     "data": {
      "text/plain": [
       "12"
      ]
     },
     "execution_count": 8,
     "metadata": {},
     "output_type": "execute_result"
    }
   ],
   "source": [
    "mine_field = currents_map(test_points.copy(), map_size=10, diagonal=True)\n",
    "len(mine_field[mine_field>=2.0])"
   ]
  },
  {
   "cell_type": "code",
   "execution_count": null,
   "metadata": {},
   "outputs": [],
   "source": []
  }
 ],
 "metadata": {
  "kernelspec": {
   "display_name": "Python 3.8.3 ('04._ML_Utils--A1wxRDZ')",
   "language": "python",
   "name": "python3"
  },
  "language_info": {
   "codemirror_mode": {
    "name": "ipython",
    "version": 3
   },
   "file_extension": ".py",
   "mimetype": "text/x-python",
   "name": "python",
   "nbconvert_exporter": "python",
   "pygments_lexer": "ipython3",
   "version": "3.8.3"
  },
  "orig_nbformat": 4,
  "vscode": {
   "interpreter": {
    "hash": "57693568fa95845605be3da01a234f4a467a6c93ef13b9c34187abb07900ecfa"
   }
  }
 },
 "nbformat": 4,
 "nbformat_minor": 2
}
