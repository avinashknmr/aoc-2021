{
 "cells": [
  {
   "cell_type": "markdown",
   "metadata": {},
   "source": [
    "[Day 10: Syntax Scoring](https://adventofcode.com/2021/day/10)"
   ]
  },
  {
   "cell_type": "code",
   "execution_count": 1,
   "metadata": {},
   "outputs": [],
   "source": [
    "with open('../input/D10.txt', 'r') as f:\n",
    "    syntaxes = [[b for b in s.strip()] for s in f.readlines()]"
   ]
  },
  {
   "cell_type": "code",
   "execution_count": 2,
   "metadata": {},
   "outputs": [],
   "source": [
    "corrupted_score_points = {')':3, ']':57, '}':1197, '>':25137}\n",
    "incomplete_score_points = {'(':1, '[':2, '{':3, '<': 4}\n",
    "\n",
    "def syntax_scoring(syntaxes):\n",
    "    closure_mapping = {'}':'{', ']':'[', ')':'(', '>':'<'}\n",
    "    corrupted = []\n",
    "    incomplete = []\n",
    "    for line in syntaxes:\n",
    "        tracker = []\n",
    "        for i, bracket in enumerate(line):\n",
    "            if bracket in ['{','[','(','<']:\n",
    "                tracker.append(bracket)\n",
    "            elif bracket in closure_mapping and tracker.pop() != closure_mapping[bracket]:\n",
    "                corrupted.append(bracket)\n",
    "                break\n",
    "            if i==len(line)-1:\n",
    "                incomplete.append(tracker[::-1])\n",
    "    return corrupted, incomplete"
   ]
  },
  {
   "cell_type": "code",
   "execution_count": 3,
   "metadata": {},
   "outputs": [
    {
     "data": {
      "text/plain": [
       "436497"
      ]
     },
     "execution_count": 3,
     "metadata": {},
     "output_type": "execute_result"
    }
   ],
   "source": [
    "sum(corrupted_score_points[v] for v in syntax_scoring(syntaxes)[0] if v in corrupted_score_points)"
   ]
  },
  {
   "cell_type": "code",
   "execution_count": 4,
   "metadata": {},
   "outputs": [
    {
     "data": {
      "text/plain": [
       "2377613374"
      ]
     },
     "execution_count": 4,
     "metadata": {},
     "output_type": "execute_result"
    }
   ],
   "source": [
    "final_score = []\n",
    "for line in syntax_scoring(syntaxes)[1]:\n",
    "    individual_score = 0\n",
    "    for bracket in line:\n",
    "        individual_score = individual_score*5 + incomplete_score_points[bracket]\n",
    "    final_score.append(individual_score)\n",
    "sorted(final_score)[len(final_score)//2]\n",
    "        "
   ]
  },
  {
   "cell_type": "code",
   "execution_count": null,
   "metadata": {},
   "outputs": [],
   "source": []
  }
 ],
 "metadata": {
  "kernelspec": {
   "display_name": "Python 3.8.3 ('04._ML_Utils--A1wxRDZ')",
   "language": "python",
   "name": "python3"
  },
  "language_info": {
   "codemirror_mode": {
    "name": "ipython",
    "version": 3
   },
   "file_extension": ".py",
   "mimetype": "text/x-python",
   "name": "python",
   "nbconvert_exporter": "python",
   "pygments_lexer": "ipython3",
   "version": "3.8.3"
  },
  "orig_nbformat": 4,
  "vscode": {
   "interpreter": {
    "hash": "57693568fa95845605be3da01a234f4a467a6c93ef13b9c34187abb07900ecfa"
   }
  }
 },
 "nbformat": 4,
 "nbformat_minor": 2
}
