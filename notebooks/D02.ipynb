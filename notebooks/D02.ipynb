{
 "cells": [
  {
   "cell_type": "markdown",
   "metadata": {},
   "source": [
    "[Day 2: Dive!](https://adventofcode.com/2021/day/2)"
   ]
  },
  {
   "cell_type": "code",
   "execution_count": 1,
   "metadata": {},
   "outputs": [],
   "source": [
    "import numpy as np"
   ]
  },
  {
   "cell_type": "code",
   "execution_count": 2,
   "metadata": {},
   "outputs": [],
   "source": [
    "with open('../input/D02.txt', 'r') as f:\n",
    "    directions = [d.replace('\\n','').split(' ') for d in f.readlines()]"
   ]
  },
  {
   "cell_type": "code",
   "execution_count": 3,
   "metadata": {},
   "outputs": [],
   "source": [
    "def get_position(instructions):\n",
    "    position = np.array([0,0])\n",
    "    for action, value in instructions:\n",
    "        try:\n",
    "            if action == 'forward':\n",
    "                position += np.array([int(value), 0])\n",
    "            elif action == 'up':\n",
    "                position += np.array([0, int(value)])\n",
    "            elif action == 'down':\n",
    "                position += np.array([0, -int(value)])\n",
    "        except:\n",
    "            print(action, value)\n",
    "    return position[0]*abs(position[1])"
   ]
  },
  {
   "cell_type": "code",
   "execution_count": 4,
   "metadata": {},
   "outputs": [
    {
     "name": "stdout",
     "output_type": "stream",
     "text": [
      "What do you get if you multiply your final horizontal position by your final depth? - 1499229\n"
     ]
    }
   ],
   "source": [
    "a1 = get_position(directions)\n",
    "print(f'What do you get if you multiply your final horizontal position by your final depth? - {a1}')"
   ]
  },
  {
   "cell_type": "code",
   "execution_count": 5,
   "metadata": {},
   "outputs": [],
   "source": [
    "def get_accurate_position(instructions):\n",
    "    position = np.array([0,0,0])\n",
    "    for action, value in instructions:\n",
    "        try:\n",
    "            if action == 'forward':\n",
    "                position[0] += int(value)\n",
    "                position[1] += position[2]*int(value)\n",
    "            elif action == 'up':\n",
    "                position += np.array([0, 0, -int(value)])\n",
    "            elif action == 'down':\n",
    "                position += np.array([0, 0, int(value)])\n",
    "        except:\n",
    "            print(action, value)\n",
    "    return position[0]*abs(position[1])"
   ]
  },
  {
   "cell_type": "code",
   "execution_count": 6,
   "metadata": {},
   "outputs": [
    {
     "name": "stdout",
     "output_type": "stream",
     "text": [
      "What do you get if you multiply your final horizontal position by your final depth? - 1340836560\n"
     ]
    }
   ],
   "source": [
    "a2 = get_accurate_position(directions)\n",
    "print(f'What do you get if you multiply your final horizontal position by your final depth? - {a2}')"
   ]
  }
 ],
 "metadata": {
  "kernelspec": {
   "display_name": "Python 3.8.3 ('04._ML_Utils--A1wxRDZ')",
   "language": "python",
   "name": "python3"
  },
  "language_info": {
   "codemirror_mode": {
    "name": "ipython",
    "version": 3
   },
   "file_extension": ".py",
   "mimetype": "text/x-python",
   "name": "python",
   "nbconvert_exporter": "python",
   "pygments_lexer": "ipython3",
   "version": "3.8.3"
  },
  "orig_nbformat": 4,
  "vscode": {
   "interpreter": {
    "hash": "57693568fa95845605be3da01a234f4a467a6c93ef13b9c34187abb07900ecfa"
   }
  }
 },
 "nbformat": 4,
 "nbformat_minor": 2
}
