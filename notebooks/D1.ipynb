{
 "cells": [
  {
   "cell_type": "markdown",
   "metadata": {},
   "source": [
    "[Day 1: Sonar Sweep](https://adventofcode.com/2021/day/1)"
   ]
  },
  {
   "cell_type": "code",
   "execution_count": 1,
   "metadata": {},
   "outputs": [],
   "source": [
    "import numpy as np"
   ]
  },
  {
   "cell_type": "code",
   "execution_count": 7,
   "metadata": {},
   "outputs": [],
   "source": [
    "with open('../input/D1.txt', 'r') as f:\n",
    "    depths = [int(d) for d in f.readlines()]"
   ]
  },
  {
   "cell_type": "code",
   "execution_count": 30,
   "metadata": {},
   "outputs": [],
   "source": [
    "def compare_depths(depths, window=1):\n",
    "    data = np.convolve(depths, np.ones(window, dtype=int), 'valid')\n",
    "    return sum(data[:-1]<np.maximum(data[:-1],data[1:]))"
   ]
  },
  {
   "cell_type": "code",
   "execution_count": 36,
   "metadata": {},
   "outputs": [
    {
     "name": "stdout",
     "output_type": "stream",
     "text": [
      "the number of times a depth measurement increases: 1393\n"
     ]
    }
   ],
   "source": [
    "a1 = compare_depths(depths, 1)\n",
    "print(f'the number of times a depth measurement increases: {a1}')"
   ]
  },
  {
   "cell_type": "code",
   "execution_count": 35,
   "metadata": {},
   "outputs": [
    {
     "name": "stdout",
     "output_type": "stream",
     "text": [
      "the number of times the sum of measurements in this sliding window increases: 1359\n"
     ]
    }
   ],
   "source": [
    "a2 = compare_depths(depths, 3)\n",
    "print(f'the number of times the sum of measurements in this sliding window increases: {a2}')"
   ]
  }
 ],
 "metadata": {
  "kernelspec": {
   "display_name": "Python 3.8.3 ('04._ML_Utils--A1wxRDZ')",
   "language": "python",
   "name": "python3"
  },
  "language_info": {
   "codemirror_mode": {
    "name": "ipython",
    "version": 3
   },
   "file_extension": ".py",
   "mimetype": "text/x-python",
   "name": "python",
   "nbconvert_exporter": "python",
   "pygments_lexer": "ipython3",
   "version": "3.8.3"
  },
  "orig_nbformat": 4,
  "vscode": {
   "interpreter": {
    "hash": "57693568fa95845605be3da01a234f4a467a6c93ef13b9c34187abb07900ecfa"
   }
  }
 },
 "nbformat": 4,
 "nbformat_minor": 2
}
