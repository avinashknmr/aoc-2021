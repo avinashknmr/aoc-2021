{
 "cells": [
  {
   "cell_type": "code",
   "execution_count": 1,
   "metadata": {},
   "outputs": [],
   "source": [
    "import numpy as np"
   ]
  },
  {
   "cell_type": "code",
   "execution_count": 2,
   "metadata": {},
   "outputs": [],
   "source": [
    "with open('../input/D04.txt', 'r') as f:\n",
    "    data = [d.strip() for d in f.readlines()]"
   ]
  },
  {
   "cell_type": "code",
   "execution_count": 20,
   "metadata": {},
   "outputs": [],
   "source": [
    "data_cleaned = '\\n'.join(data).split('\\n\\n')\n",
    "numbers_draw = [int(n) for n in data_cleaned[0].split(',')]\n",
    "boards = np.array([[[int(n.strip()) for n in row.replace('  ', ' ').split(' ')] for row in board.split('\\n')] for board in data_cleaned[1:]])"
   ]
  },
  {
   "cell_type": "code",
   "execution_count": 21,
   "metadata": {},
   "outputs": [],
   "source": [
    "def game(board):    \n",
    "    for i, n in enumerate(numbers_draw):    \n",
    "        board[np.where(board == n)] = 0\n",
    "        if any(np.sum(board, axis=1)==0) or any(np.sum(board, axis=0)==0):\n",
    "            return i, n*np.sum(board)"
   ]
  },
  {
   "cell_type": "code",
   "execution_count": 22,
   "metadata": {},
   "outputs": [
    {
     "data": {
      "text/plain": [
       "(21, 58374)"
      ]
     },
     "execution_count": 22,
     "metadata": {},
     "output_type": "execute_result"
    }
   ],
   "source": [
    "min(map(game, boards.copy()))"
   ]
  },
  {
   "cell_type": "code",
   "execution_count": 23,
   "metadata": {},
   "outputs": [
    {
     "data": {
      "text/plain": [
       "(81, 11377)"
      ]
     },
     "execution_count": 23,
     "metadata": {},
     "output_type": "execute_result"
    }
   ],
   "source": [
    "max(map(game, boards.copy()))"
   ]
  }
 ],
 "metadata": {
  "kernelspec": {
   "display_name": "Python 3.8.3 ('04._ML_Utils--A1wxRDZ')",
   "language": "python",
   "name": "python3"
  },
  "language_info": {
   "codemirror_mode": {
    "name": "ipython",
    "version": 3
   },
   "file_extension": ".py",
   "mimetype": "text/x-python",
   "name": "python",
   "nbconvert_exporter": "python",
   "pygments_lexer": "ipython3",
   "version": "3.8.3"
  },
  "orig_nbformat": 4,
  "vscode": {
   "interpreter": {
    "hash": "57693568fa95845605be3da01a234f4a467a6c93ef13b9c34187abb07900ecfa"
   }
  }
 },
 "nbformat": 4,
 "nbformat_minor": 2
}
