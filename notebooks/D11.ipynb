{
 "cells": [
  {
   "cell_type": "markdown",
   "metadata": {},
   "source": [
    "[Day 11: Dumbo Octopus](https://adventofcode.com/2021/day/11)"
   ]
  },
  {
   "cell_type": "code",
   "execution_count": 110,
   "metadata": {},
   "outputs": [],
   "source": [
    "import numpy as np\n",
    "from scipy.signal import convolve2d\n",
    "from math import prod"
   ]
  },
  {
   "cell_type": "code",
   "execution_count": 47,
   "metadata": {},
   "outputs": [],
   "source": [
    "input = \"\"\"5483143223\n",
    "2745854711\n",
    "5264556173\n",
    "6141336146\n",
    "6357385478\n",
    "4167524645\n",
    "2176841721\n",
    "6882881134\n",
    "4846848554\n",
    "5283751526\"\"\"\n",
    "octopuses = np.array([[int(octopus) for octopus in row] for row in input.split('\\n')])"
   ]
  },
  {
   "cell_type": "code",
   "execution_count": 104,
   "metadata": {},
   "outputs": [],
   "source": [
    "with open('../input/D11.txt', 'r') as f:\n",
    "    octopuses = np.array([[int(octopus) for octopus in row.strip()] for row in f.readlines()])"
   ]
  },
  {
   "cell_type": "code",
   "execution_count": 112,
   "metadata": {},
   "outputs": [],
   "source": [
    "def add_energy(octopuses):\n",
    "    convolution_matrix = np.array([[1,1,1],[1,0,1],[1,1,1]])\n",
    "    energy = convolve2d(octopuses>=10, convolution_matrix, boundary='fill', fillvalue=0)[1:-1,1:-1]\n",
    "    return energy"
   ]
  },
  {
   "cell_type": "code",
   "execution_count": 113,
   "metadata": {},
   "outputs": [],
   "source": [
    "def flashing_octopuses(octopuses, steps=1000):\n",
    "    current_step = 0\n",
    "    flashes = 0\n",
    "    while current_step<steps:\n",
    "        octopuses += 1\n",
    "        already_flashed = octopuses>9\n",
    "        new_flashes = octopuses>9\n",
    "        while np.any(new_flashes):\n",
    "            octopuses += add_energy(octopuses)\n",
    "            octopuses[new_flashes] = 0\n",
    "            new_flashes = octopuses>9\n",
    "            already_flashed += new_flashes\n",
    "        octopuses[already_flashed] = 0\n",
    "        current_step += 1\n",
    "        flashes += np.sum(octopuses==0)\n",
    "        if np.sum(octopuses==0)==prod(octopuses.shape):break\n",
    "    return current_step, flashes"
   ]
  },
  {
   "cell_type": "code",
   "execution_count": 114,
   "metadata": {},
   "outputs": [
    {
     "data": {
      "text/plain": [
       "1585"
      ]
     },
     "execution_count": 114,
     "metadata": {},
     "output_type": "execute_result"
    }
   ],
   "source": [
    "flashing_octopuses(octopuses.copy(), 100)[1]"
   ]
  },
  {
   "cell_type": "code",
   "execution_count": 115,
   "metadata": {},
   "outputs": [
    {
     "data": {
      "text/plain": [
       "382"
      ]
     },
     "execution_count": 115,
     "metadata": {},
     "output_type": "execute_result"
    }
   ],
   "source": [
    "flashing_octopuses(octopuses.copy())[0]"
   ]
  }
 ],
 "metadata": {
  "kernelspec": {
   "display_name": "Python 3.8.3 ('04._ML_Utils--A1wxRDZ')",
   "language": "python",
   "name": "python3"
  },
  "language_info": {
   "codemirror_mode": {
    "name": "ipython",
    "version": 3
   },
   "file_extension": ".py",
   "mimetype": "text/x-python",
   "name": "python",
   "nbconvert_exporter": "python",
   "pygments_lexer": "ipython3",
   "version": "3.8.3"
  },
  "orig_nbformat": 4,
  "vscode": {
   "interpreter": {
    "hash": "57693568fa95845605be3da01a234f4a467a6c93ef13b9c34187abb07900ecfa"
   }
  }
 },
 "nbformat": 4,
 "nbformat_minor": 2
}
