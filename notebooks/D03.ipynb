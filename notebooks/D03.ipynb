{
 "cells": [
  {
   "cell_type": "markdown",
   "metadata": {},
   "source": [
    "[Day 3: Binary Diagnostic](https://adventofcode.com/2021/day/3)"
   ]
  },
  {
   "cell_type": "code",
   "execution_count": 1,
   "metadata": {},
   "outputs": [],
   "source": [
    "import numpy as np"
   ]
  },
  {
   "cell_type": "code",
   "execution_count": 2,
   "metadata": {},
   "outputs": [
    {
     "data": {
      "text/plain": [
       "array([[0, 1, 0, ..., 1, 1, 1],\n",
       "       [1, 0, 0, ..., 1, 1, 0],\n",
       "       [1, 0, 0, ..., 0, 0, 1],\n",
       "       ...,\n",
       "       [1, 0, 1, ..., 1, 0, 0],\n",
       "       [1, 0, 0, ..., 0, 0, 1],\n",
       "       [1, 0, 0, ..., 1, 1, 1]])"
      ]
     },
     "execution_count": 2,
     "metadata": {},
     "output_type": "execute_result"
    }
   ],
   "source": [
    "with open('../input/D03.txt', 'r') as f:\n",
    "    diagnostic = np.array([[int(c) for c in d.replace('\\n','')] for d in f.readlines()])\n",
    "diagnostic"
   ]
  },
  {
   "cell_type": "code",
   "execution_count": 3,
   "metadata": {},
   "outputs": [],
   "source": [
    "def convert_string_to_int(l):\n",
    "    return int(''.join([str(s) for s in l]),2)\n",
    "\n",
    "def power_consumption(diagnostic):\n",
    "    gamma = convert_string_to_int(np.multiply(np.mean(diagnostic, axis=0)>=0.5,1))\n",
    "    epsilon = convert_string_to_int(np.multiply(np.mean(diagnostic, axis=0)<0.5,1))\n",
    "    return gamma*epsilon\n",
    "\n",
    "def life_support_rating(diagnostic):\n",
    "    data = diagnostic.copy()\n",
    "    while len(data)>1:\n",
    "        pass\n",
    "    oxygen = convert_string_to_int(data)\n",
    "    co2 = convert_string_to_int(data)\n",
    "    return oxygen*co2"
   ]
  },
  {
   "cell_type": "code",
   "execution_count": 4,
   "metadata": {},
   "outputs": [
    {
     "name": "stdout",
     "output_type": "stream",
     "text": [
      "What is the power consumption of the submarine? - 4139586\n"
     ]
    }
   ],
   "source": [
    "a1 = power_consumption(diagnostic)\n",
    "print(f'What is the power consumption of the submarine? - {a1}')"
   ]
  },
  {
   "cell_type": "code",
   "execution_count": null,
   "metadata": {},
   "outputs": [],
   "source": [
    "a2 = life_support_rating(diagnostic)\n",
    "print(f'What is the life support rating of the submarine? - {a2}')"
   ]
  }
 ],
 "metadata": {
  "kernelspec": {
   "display_name": "Python 3.8.3 ('04._ML_Utils--A1wxRDZ')",
   "language": "python",
   "name": "python3"
  },
  "language_info": {
   "codemirror_mode": {
    "name": "ipython",
    "version": 3
   },
   "file_extension": ".py",
   "mimetype": "text/x-python",
   "name": "python",
   "nbconvert_exporter": "python",
   "pygments_lexer": "ipython3",
   "version": "3.8.3"
  },
  "orig_nbformat": 4,
  "vscode": {
   "interpreter": {
    "hash": "57693568fa95845605be3da01a234f4a467a6c93ef13b9c34187abb07900ecfa"
   }
  }
 },
 "nbformat": 4,
 "nbformat_minor": 2
}
