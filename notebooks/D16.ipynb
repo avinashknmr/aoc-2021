{
 "cells": [
  {
   "cell_type": "code",
   "execution_count": 1,
   "metadata": {},
   "outputs": [],
   "source": [
    "from dataclasses import dataclass\n",
    "from numpy import product\n",
    "from operator import lt, gt, eq"
   ]
  },
  {
   "cell_type": "code",
   "execution_count": 2,
   "metadata": {},
   "outputs": [],
   "source": [
    "@dataclass\n",
    "class Packet:\n",
    "    version: int\n",
    "    type_id: int\n",
    "    literal: int\n",
    "    length: int\n",
    "    sub_packets: list\n"
   ]
  },
  {
   "cell_type": "code",
   "execution_count": 11,
   "metadata": {},
   "outputs": [],
   "source": [
    "def parse_packet(bits, depth=0):\n",
    "    version = int(bits[0:3], 2)\n",
    "    type_id = int(bits[3:6], 2)\n",
    "    position = 6\n",
    "\n",
    "    # literal packet\n",
    "    if type_id == 4:  # literal\n",
    "        literal, is_last = 0, False\n",
    "        while not is_last:\n",
    "            is_last = bits[position] == \"0\"\n",
    "            literal = (literal << 4) | int(bits[position + 1 : position + 5], 2)\n",
    "            position += 5\n",
    "        return Packet(version, type_id, literal, position, [])\n",
    "\n",
    "    # operator packet\n",
    "    length_type_id = int(bits[position], 2)\n",
    "    position += 1\n",
    "    if length_type_id == 0:  # total length in bits\n",
    "        total_length = int(bits[position : position + 15], 2)\n",
    "        position += 15\n",
    "        length = 0\n",
    "        sub_packets = []\n",
    "        while length != total_length:\n",
    "            sub = parse_packet(bits[position : position + total_length - length], depth + 1)\n",
    "            sub_packets.append(sub)\n",
    "            length += sub.length\n",
    "            position += sub.length\n",
    "        return Packet(version, type_id, 0, position, sub_packets)\n",
    "\n",
    "    # number of sub-packets immediately contained\n",
    "    number = int(bits[position : position + 11], 2)\n",
    "    position += 11\n",
    "    sub_packets = []\n",
    "    for _ in range(number):\n",
    "        sub = parse_packet(bits[position:], depth + 1)\n",
    "        sub_packets.append(sub)\n",
    "        position += sub.length\n",
    "    return Packet(version, type_id, 0, position, sub_packets)\n",
    "\n",
    "\n",
    "def add_versions(packets):\n",
    "    total = 0\n",
    "    for packet in packets:\n",
    "        total += packet.version\n",
    "        total += add_versions(packet.sub_packets)\n",
    "    return total\n",
    "\n",
    "\n",
    "def compute(p):\n",
    "    packet_operations = {\n",
    "        0: sum,\n",
    "        1: product,\n",
    "        2: min,\n",
    "        3: max,\n",
    "        5: gt,\n",
    "        6: lt,\n",
    "        7: eq\n",
    "    }\n",
    "    if p.type_id == 4:\n",
    "        return p.literal\n",
    "    values = [compute(x) for x in p.sub_packets]\n",
    "    return packet_operations[p.type_id](values) if p.type_id not in [5,6,7] else packet_operations[p.type_id](*values)*1"
   ]
  },
  {
   "cell_type": "code",
   "execution_count": 12,
   "metadata": {},
   "outputs": [],
   "source": [
    "with open('../input/D16.txt', 'r') as f:\n",
    "    data = f.read().strip()\n",
    "bits = bin(int(data, 16))[2:].zfill(len(data) * 4)\n",
    "packets = parse_packet(bits)"
   ]
  },
  {
   "cell_type": "code",
   "execution_count": 13,
   "metadata": {},
   "outputs": [
    {
     "data": {
      "text/plain": [
       "891"
      ]
     },
     "execution_count": 13,
     "metadata": {},
     "output_type": "execute_result"
    }
   ],
   "source": [
    "add_versions([packets])"
   ]
  },
  {
   "cell_type": "code",
   "execution_count": 14,
   "metadata": {},
   "outputs": [
    {
     "data": {
      "text/plain": [
       "673042777597"
      ]
     },
     "execution_count": 14,
     "metadata": {},
     "output_type": "execute_result"
    }
   ],
   "source": [
    "compute(packets)"
   ]
  },
  {
   "cell_type": "code",
   "execution_count": null,
   "metadata": {},
   "outputs": [],
   "source": []
  }
 ],
 "metadata": {
  "kernelspec": {
   "display_name": "Python 3.8.3 ('04._ML_Utils--A1wxRDZ')",
   "language": "python",
   "name": "python3"
  },
  "language_info": {
   "codemirror_mode": {
    "name": "ipython",
    "version": 3
   },
   "file_extension": ".py",
   "mimetype": "text/x-python",
   "name": "python",
   "nbconvert_exporter": "python",
   "pygments_lexer": "ipython3",
   "version": "3.8.3"
  },
  "orig_nbformat": 4,
  "vscode": {
   "interpreter": {
    "hash": "57693568fa95845605be3da01a234f4a467a6c93ef13b9c34187abb07900ecfa"
   }
  }
 },
 "nbformat": 4,
 "nbformat_minor": 2
}
