{
 "cells": [
  {
   "cell_type": "markdown",
   "metadata": {},
   "source": [
    "[Day 12: Passage Pathing](https://adventofcode.com/2021/day/12)"
   ]
  },
  {
   "cell_type": "code",
   "execution_count": 1,
   "metadata": {},
   "outputs": [],
   "source": [
    "import networkx as nx\n",
    "from collections import Counter"
   ]
  },
  {
   "cell_type": "code",
   "execution_count": 298,
   "metadata": {},
   "outputs": [],
   "source": [
    "with open('../input/D12.txt', 'r') as f:\n",
    "    paths = [tuple(p.strip().split('-')) for p in f.readlines()]"
   ]
  },
  {
   "cell_type": "code",
   "execution_count": 299,
   "metadata": {},
   "outputs": [],
   "source": [
    "g = nx.Graph(paths)"
   ]
  },
  {
   "cell_type": "code",
   "execution_count": 300,
   "metadata": {},
   "outputs": [],
   "source": [
    "def all_paths(G, source, target, small_caves=1, visit_limit=1):\n",
    "    targets = set({target})\n",
    "    visited = [source]\n",
    "    stack = [iter(G[source])]\n",
    "    while stack:\n",
    "        children = stack[-1]\n",
    "        child = next(children, None)\n",
    "        if child is None:\n",
    "            stack.pop()\n",
    "            visited.pop()  \n",
    "        else:\n",
    "            if child in visited and (child in [source, target] or \\\n",
    "                (child.islower() and \\\n",
    "                    (visited.count(child)==visit_limit or sum(x==visit_limit for k, x in Counter(visited).items() if k.islower())==small_caves))):\n",
    "                continue\n",
    "            if child in targets:\n",
    "                yield list(visited) + [child]\n",
    "            visited.append(child)\n",
    "            if targets - set(visited):  # expand stack until find all targets\n",
    "                stack.append(iter(G[child]))\n",
    "            else:\n",
    "                visited.pop()  # maybe other ways to child"
   ]
  },
  {
   "cell_type": "code",
   "execution_count": 301,
   "metadata": {},
   "outputs": [
    {
     "data": {
      "text/plain": [
       "3497"
      ]
     },
     "execution_count": 301,
     "metadata": {},
     "output_type": "execute_result"
    }
   ],
   "source": [
    "len([path for path in all_paths(g, source='start', target='end', small_caves=1, visit_limit=1)])"
   ]
  },
  {
   "cell_type": "code",
   "execution_count": 302,
   "metadata": {},
   "outputs": [
    {
     "data": {
      "text/plain": [
       "93686"
      ]
     },
     "execution_count": 302,
     "metadata": {},
     "output_type": "execute_result"
    }
   ],
   "source": [
    "len([path for path in all_paths(g, source='start', target='end', small_caves=1, visit_limit=2)])"
   ]
  },
  {
   "cell_type": "markdown",
   "metadata": {},
   "source": [
    "### Test Case"
   ]
  },
  {
   "cell_type": "code",
   "execution_count": 292,
   "metadata": {},
   "outputs": [],
   "source": [
    "# paths = [('start','A'),\n",
    "# ('start','b'),\n",
    "# ('A','c'),\n",
    "# ('A','b'),\n",
    "# ('b','d'),\n",
    "# ('A','end'),\n",
    "# ('b','end')]\n",
    "string = \"\"\"dc-end\n",
    "HN-start\n",
    "start-kj\n",
    "dc-start\n",
    "dc-HN\n",
    "LN-dc\n",
    "HN-end\n",
    "kj-sa\n",
    "kj-HN\n",
    "kj-dc\"\"\"\n",
    "paths = [tuple(p.strip().split('-')) for p in string.split('\\n')]"
   ]
  },
  {
   "cell_type": "code",
   "execution_count": null,
   "metadata": {},
   "outputs": [],
   "source": []
  }
 ],
 "metadata": {
  "kernelspec": {
   "display_name": "Python 3.9.13 ('AOC-f0fObxNH')",
   "language": "python",
   "name": "python3"
  },
  "language_info": {
   "codemirror_mode": {
    "name": "ipython",
    "version": 3
   },
   "file_extension": ".py",
   "mimetype": "text/x-python",
   "name": "python",
   "nbconvert_exporter": "python",
   "pygments_lexer": "ipython3",
   "version": "3.9.13"
  },
  "orig_nbformat": 4,
  "vscode": {
   "interpreter": {
    "hash": "4d2e615df860dbb8dab799da6c49ca2875c6babc41706b5923d6502e2954ccfd"
   }
  }
 },
 "nbformat": 4,
 "nbformat_minor": 2
}
