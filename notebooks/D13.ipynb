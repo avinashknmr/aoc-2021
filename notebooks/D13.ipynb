{
 "cells": [
  {
   "cell_type": "markdown",
   "metadata": {},
   "source": [
    "[Day 13: Transparent Origami](https://adventofcode.com/2021/day/13)"
   ]
  },
  {
   "cell_type": "code",
   "execution_count": 1,
   "metadata": {},
   "outputs": [],
   "source": [
    "import numpy as np\n",
    "from matplotlib.pyplot import imshow"
   ]
  },
  {
   "cell_type": "code",
   "execution_count": 2,
   "metadata": {},
   "outputs": [],
   "source": [
    "with open('../input/D13.txt', 'r') as f:\n",
    "    instructions = [i.strip() for i in f.readlines()]\n",
    "points, fold_instructions = np.array([tuple([int(i) for i in x.split(',')]) for x in instructions[:-13]]), [(x.replace('fold along ','').split('=')[0], int(x.replace('fold along ','').split('=')[1])) for x in instructions[-12:]]"
   ]
  },
  {
   "cell_type": "code",
   "execution_count": 24,
   "metadata": {},
   "outputs": [],
   "source": [
    "paper = np.zeros(points.max(axis=0)+1)\n",
    "for x,y in points:\n",
    "    paper[x, y] = 1"
   ]
  },
  {
   "cell_type": "code",
   "execution_count": 13,
   "metadata": {},
   "outputs": [],
   "source": [
    "def find_code_from_paper(paper, fold_instructions):\n",
    "    for instruction in fold_instructions:\n",
    "        if instruction[0]=='x':\n",
    "            paper = paper[:instruction[1], :]+np.flip(paper[instruction[1]+1:, :], axis=0)\n",
    "        elif instruction[0]=='y':\n",
    "            paper = paper[:, :instruction[1]]+np.flip(paper[:, instruction[1]+1:], axis=1)\n",
    "    return paper"
   ]
  },
  {
   "cell_type": "code",
   "execution_count": 14,
   "metadata": {},
   "outputs": [
    {
     "data": {
      "text/plain": [
       "765"
      ]
     },
     "execution_count": 14,
     "metadata": {},
     "output_type": "execute_result"
    }
   ],
   "source": [
    "np.sum(find_code_from_paper(paper, fold_instructions[:1])>0)"
   ]
  },
  {
   "cell_type": "code",
   "execution_count": 15,
   "metadata": {},
   "outputs": [
    {
     "data": {
      "image/png": "[encoded data removed]",
      "text/plain": [
       "<Figure size 432x288 with 1 Axes>"
      ]
     },
     "metadata": {
      "needs_background": "light"
     },
     "output_type": "display_data"
    }
   ],
   "source": [
    "imshow((find_code_from_paper(paper, fold_instructions)>0).T);"
   ]
  },
  {
   "cell_type": "code",
   "execution_count": null,
   "metadata": {},
   "outputs": [],
   "source": []
  }
 ],
 "metadata": {
  "kernelspec": {
   "display_name": "Python 3.8.3 ('04._ML_Utils--A1wxRDZ')",
   "language": "python",
   "name": "python3"
  },
  "language_info": {
   "codemirror_mode": {
    "name": "ipython",
    "version": 3
   },
   "file_extension": ".py",
   "mimetype": "text/x-python",
   "name": "python",
   "nbconvert_exporter": "python",
   "pygments_lexer": "ipython3",
   "version": "3.8.3"
  },
  "orig_nbformat": 4,
  "vscode": {
   "interpreter": {
    "hash": "57693568fa95845605be3da01a234f4a467a6c93ef13b9c34187abb07900ecfa"
   }
  }
 },
 "nbformat": 4,
 "nbformat_minor": 2
}
