{
 "cells": [
  {
   "cell_type": "markdown",
   "metadata": {},
   "source": [
    "[Day 14: Extended Polymerization](https://adventofcode.com/2021/day/14)"
   ]
  },
  {
   "cell_type": "code",
   "execution_count": 1,
   "metadata": {},
   "outputs": [],
   "source": [
    "import numpy as np\n",
    "from collections import Counter"
   ]
  },
  {
   "cell_type": "code",
   "execution_count": 2,
   "metadata": {},
   "outputs": [],
   "source": [
    "with open('../input/D14.txt', 'r') as f:\n",
    "    polymer = [x for x in f.readlines()]\n",
    "polymer_template, insertions = ''.join(polymer).split('\\n\\n')\n",
    "rules = {a: b for a, b in [x.split(\" -> \") for x in insertions.strip().split('\\n')]}\n",
    "pairs = Counter([polymer_template[i : i + 2] for i in range(len(polymer_template) - 1)])"
   ]
  },
  {
   "cell_type": "code",
   "execution_count": 3,
   "metadata": {},
   "outputs": [],
   "source": [
    "def new_polymer_counter(pairs, rules, steps=10):\n",
    "    for _ in range(steps):\n",
    "        new_pairs = Counter()\n",
    "        for p, v in pairs.items():\n",
    "            if p in rules:\n",
    "                c = rules[p]\n",
    "                new_pairs[p[0] + c] += v\n",
    "                new_pairs[c + p[1]] += v\n",
    "            else:\n",
    "                new_pairs[p] += pairs[p]\n",
    "        pairs = new_pairs\n",
    "    return pairs"
   ]
  },
  {
   "cell_type": "code",
   "execution_count": 4,
   "metadata": {},
   "outputs": [
    {
     "name": "stdout",
     "output_type": "stream",
     "text": [
      "3306\n"
     ]
    }
   ],
   "source": [
    "new_pairs = new_polymer_counter(pairs.copy(), rules, steps=10)\n",
    "count = Counter()\n",
    "for p, v in new_pairs.items():\n",
    "    count[p[0]] += v\n",
    "count[polymer_template[-1]] += 1\n",
    "\n",
    "print(count.most_common()[0][1] - count.most_common()[-1][1])"
   ]
  },
  {
   "cell_type": "code",
   "execution_count": 5,
   "metadata": {},
   "outputs": [
    {
     "name": "stdout",
     "output_type": "stream",
     "text": [
      "3760312702877\n"
     ]
    }
   ],
   "source": [
    "new_pairs = new_polymer_counter(pairs.copy(), rules, steps=40)\n",
    "count = Counter()\n",
    "for p, v in new_pairs.items():\n",
    "    count[p[0]] += v\n",
    "count[polymer_template[-1]] += 1\n",
    "\n",
    "print(count.most_common()[0][1] - count.most_common()[-1][1])"
   ]
  },
  {
   "cell_type": "code",
   "execution_count": null,
   "metadata": {},
   "outputs": [],
   "source": []
  }
 ],
 "metadata": {
  "kernelspec": {
   "display_name": "Python 3.8.3 ('04._ML_Utils--A1wxRDZ')",
   "language": "python",
   "name": "python3"
  },
  "language_info": {
   "codemirror_mode": {
    "name": "ipython",
    "version": 3
   },
   "file_extension": ".py",
   "mimetype": "text/x-python",
   "name": "python",
   "nbconvert_exporter": "python",
   "pygments_lexer": "ipython3",
   "version": "3.8.3"
  },
  "orig_nbformat": 4,
  "vscode": {
   "interpreter": {
    "hash": "57693568fa95845605be3da01a234f4a467a6c93ef13b9c34187abb07900ecfa"
   }
  }
 },
 "nbformat": 4,
 "nbformat_minor": 2
}
