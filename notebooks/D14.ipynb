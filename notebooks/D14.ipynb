{
 "cells": [
  {
   "cell_type": "markdown",
   "metadata": {},
   "source": [
    "[Day 14: Extended Polymerization](https://adventofcode.com/2021/day/14)"
   ]
  },
  {
   "cell_type": "code",
   "execution_count": 1,
   "metadata": {},
   "outputs": [],
   "source": [
    "import numpy as np\n",
    "from collections import Counter"
   ]
  },
  {
   "cell_type": "code",
   "execution_count": 2,
   "metadata": {},
   "outputs": [],
   "source": [
    "with open('../input/D14.txt', 'r') as f:\n",
    "    polymer = [x for x in f.readlines()]\n",
    "polymer_template, insertions = ''.join(polymer).split('\\n\\n')\n",
    "rules = {a: [a[0]+b, b+a[1]] for a, b in [x.split(\" -> \") for x in insertions.strip().split('\\n')]}\n",
    "pairs = Counter([polymer_template[i : i + 2] for i in range(len(polymer_template) - 1)])"
   ]
  },
  {
   "cell_type": "code",
   "execution_count": 3,
   "metadata": {},
   "outputs": [],
   "source": [
    "def new_polymer(pairs, rules, steps=10):\n",
    "    for _ in range(steps):\n",
    "        new_pairs = Counter()\n",
    "        for k, v in pairs.items():\n",
    "            if k in rules:\n",
    "                c1, c2 = rules[k]\n",
    "                new_pairs[c1] += v\n",
    "                new_pairs[c2] += v\n",
    "        pairs = new_pairs\n",
    "    return new_pairs\n",
    "\n",
    "def new_polymer_counter(pairs, rules, steps=10):\n",
    "    new_pairs = new_polymer(pairs, rules, steps=steps)\n",
    "    count = Counter()\n",
    "    for p, v in new_pairs.items():\n",
    "        count[p[0]] += v\n",
    "    count[polymer_template[-1]] += 1\n",
    "    return count.most_common()[0][1] - count.most_common()[-1][1]"
   ]
  },
  {
   "cell_type": "code",
   "execution_count": 4,
   "metadata": {},
   "outputs": [
    {
     "data": {
      "text/plain": [
       "3306"
      ]
     },
     "execution_count": 4,
     "metadata": {},
     "output_type": "execute_result"
    }
   ],
   "source": [
    "new_polymer_counter(pairs.copy(), rules, steps=10)\n"
   ]
  },
  {
   "cell_type": "code",
   "execution_count": 5,
   "metadata": {},
   "outputs": [
    {
     "data": {
      "text/plain": [
       "3760312702877"
      ]
     },
     "execution_count": 5,
     "metadata": {},
     "output_type": "execute_result"
    }
   ],
   "source": [
    "new_polymer_counter(pairs.copy(), rules, steps=40)"
   ]
  }
 ],
 "metadata": {
  "kernelspec": {
   "display_name": "Python 3.8.3 ('04._ML_Utils--A1wxRDZ')",
   "language": "python",
   "name": "python3"
  },
  "language_info": {
   "codemirror_mode": {
    "name": "ipython",
    "version": 3
   },
   "file_extension": ".py",
   "mimetype": "text/x-python",
   "name": "python",
   "nbconvert_exporter": "python",
   "pygments_lexer": "ipython3",
   "version": "3.8.3"
  },
  "orig_nbformat": 4,
  "vscode": {
   "interpreter": {
    "hash": "57693568fa95845605be3da01a234f4a467a6c93ef13b9c34187abb07900ecfa"
   }
  }
 },
 "nbformat": 4,
 "nbformat_minor": 2
}
